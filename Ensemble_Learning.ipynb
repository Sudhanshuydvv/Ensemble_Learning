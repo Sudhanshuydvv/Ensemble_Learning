{
  "nbformat": 4,
  "nbformat_minor": 0,
  "metadata": {
    "colab": {
      "provenance": []
    },
    "kernelspec": {
      "name": "python3",
      "display_name": "Python 3"
    },
    "language_info": {
      "name": "python"
    }
  },
  "cells": [
    {
      "cell_type": "markdown",
      "source": [
        "#**Theoretical Questions:**"
      ],
      "metadata": {
        "id": "20bv4OpAvNnf"
      }
    },
    {
      "cell_type": "markdown",
      "source": [
        "#1. Can we use Bagging for regression problems?\n",
        " - Yes, Bagging can absolutely be used for regression probelms!\n",
        "\n",
        " Bagging (Bootstrap Aggregating) is a general ensemble method that works by training multiple models independently on different bootstrap samples of the training data and then combining their predictions. For regression, instead of taking a vote (as in classification), the predictions from each model are typically averaged to produce the final prediction. This averaging helps to reduce variance and improve the stability of the overall model."
      ],
      "metadata": {
        "id": "lzxOETKPvZ9V"
      }
    },
    {
      "cell_type": "markdown",
      "source": [
        "#2. What is the difference between multiple model training and single model training?\n",
        " - Difference between multiple model training and single model training.\n",
        " 1. **Multiple Model Training:**\n",
        "   - multiple models are trained either independently or as part of an ensemble. This technique improves robustness and accuracy by combining predictions from different models. Examples include bagging (like Random Forest), boosting (like XGBoost), and stacking, where models complement each other's strengths to provide better results.\n",
        "\n",
        " 2. **Single Model Training:**\n",
        "   - This approach involves training a single model on the entire dataset. It learns patterns and makes predictions based on the given training data. While simple and efficient, it can be prone to overfitting or underfitting, depending on the model complexity and dataset size."
      ],
      "metadata": {
        "id": "3Vz_BA3ZwGPs"
      }
    },
    {
      "cell_type": "markdown",
      "source": [
        "#3. Explain the concept of feature randomness in Random Forest?\n",
        " - Feature randomness is a crucial aspect of Random Forest that enhances its ability to generalize and reduce overfitting. Here's how it works:\n",
        "- Subset of Features for Splitting: Unlike traditional decision trees, where all features are considered at each split, Random Forest randomly selects a subset of features when determining the best split at each node. This ensures that different trees in the forest focus on varied aspects of the data, preventing dominance by a few strong predictors.\n",
        "- Diversity in Trees: Since different trees use different subsets of features, the ensemble learns a broader representation of the data rather than relying heavily on a single feature. This diversity helps improve accuracy and robustness.\n",
        "- Reduced Correlation Between Trees: By introducing randomness in feature selection, Random Forest prevents trees from making highly correlated predictions, resulting in a stronger aggregated outcome when averaging (for regression) or using majority voting (for classification).\n",
        "Would you like to see a practical implementation of this in Python?\n"
      ],
      "metadata": {
        "id": "Dpe0H7rQw10D"
      }
    },
    {
      "cell_type": "markdown",
      "source": [
        "#4. What is OOB (Out-of-Bag) Score?\n",
        " - The Out-of-Bag (OOB) Score is a built-in validation metric used in Random Forest to assess model performance without needing a separate test set. Here's how it works:\n",
        "- Bootstrap Sampling: Random Forest trains each tree using a randomly selected subset of the training data (bootstrapping). Some samples are left out during this process—these are called out-of-bag samples.\n",
        "- OOB Prediction: After a tree is trained, it makes predictions for the samples that were excluded during bootstrapping. Each sample gets predictions from multiple trees that didn't see it during training.\n",
        "- Performance Measurement: The final OOB score is calculated by comparing the aggregated OOB predictions with the actual values, providing an unbiased estimate of the model’s accuracy.\n"
      ],
      "metadata": {
        "id": "E_tewWzXxDIU"
      }
    },
    {
      "cell_type": "markdown",
      "source": [
        "#5. How can you measure the importance of features in a Random Forest model?\n",
        " - Here are two common methods used to measure this:\n",
        " 1. **Gini Importance(Mean Decrease in Impurity)**\n",
        "   - During tree building, Random Forest calculates how much each feature decreases impurity (like Gini or entropy) when used for splitting.\n",
        "   - The average reduction across all trees gives the Gini importance of each feature.\n",
        "   - This method is fast but may favor features with many unique values.\n",
        "\n",
        " 2. **Permutation Importance**\n",
        "   - After training, Random Forest randomly shuffles the values of a feature and checks how much the model’s performance drops.\n",
        "\n"
      ],
      "metadata": {
        "id": "LvrlwTWpxQZz"
      }
    },
    {
      "cell_type": "markdown",
      "source": [
        "#6. Explain the working principle of a Bagging Classifier?\n",
        " - A Bagging Classifier is an ensemble learning technique that improves accuracy and reduces variance by training multiple models on different subsets of the data and then combining their predictions.\n",
        "Working Principle:\n",
        "- Bootstrapping (Random Sampling): It creates multiple subsets of the original dataset by randomly selecting samples with replacement.\n",
        "- Training Independent Models: Each subset trains a separate base model (often decision trees), ensuring diversity in predictions.\n",
        "- Aggregating Predictions:\n",
        "- Classification: Uses majority voting, where the most frequent predicted class becomes the final output.\n",
        "- Regression: Uses averaging, where the mean of all predictions is taken.\n"
      ],
      "metadata": {
        "id": "xcYPf8z5yIJZ"
      }
    },
    {
      "cell_type": "markdown",
      "source": [
        "#7. How do you evaluate a Bagging Classifier’s performance?\n",
        " - Evaluating the performance of a Bagging Classifier involves several steps to measure its accuracy, stability, and generalization ability. Here’s how you can do it:\n",
        "1. Standard Metrics\n",
        "- Accuracy: Measures the percentage of correctly classified instances.\n",
        "- Precision & Recall: Useful for imbalanced datasets.\n",
        "- F1-score: Balances precision and recall for a better overall assessment.\n",
        "- ROC-AUC Score: Evaluates how well the model distinguishes between classes.\n",
        "2. Cross-Validation\n",
        "- Use k-fold cross-validation to ensure the model generalizes well to unseen data.\n",
        "- Helps avoid overfitting by testing the classifier on multiple subsets.\n",
        "3. Compare with Base Models\n",
        "- Compare the Bagging Classifier's performance with a single base estimator (e.g., a standalone decision tree).\n",
        "- This highlights how much improvement bagging provides in terms of stability and accuracy.\n",
        "4. Bias-Variance Analysis\n",
        "- Bagging reduces variance, so check if there’s a significant reduction in variability while maintaining a reasonable bias.\n",
        "5. Feature Importance & Interpretability\n",
        "- If using decision trees, analyze feature importance to understand the key drivers behind predictions.\n"
      ],
      "metadata": {
        "id": "YyOnqqcHqXnu"
      }
    },
    {
      "cell_type": "markdown",
      "source": [
        "#8. How does a Bagging Regressor work?\n",
        " - A Bagging Regressor is an ensemble learning technique that improves the accuracy and stability of regression models by reducing variance. Here's how it works:\n",
        "- Bootstrapped Sampling: It creates multiple subsets of the original dataset by randomly sampling with replacement. This ensures diversity among the training data for different models.\n",
        "- Training Multiple Models: Each subset is used to train an independent regression model (often the same type, like decision trees or linear regressors).\n",
        "- Aggregation: Once all models are trained, their predictions are averaged to produce the final output. This averaging reduces variance and prevents overfitting.\n",
        "Key Advantages:\n",
        "- Reduces variance by averaging multiple predictions.\n",
        "- Handles noisy data effectively, making the model more robust.\n",
        "- Improves accuracy compared to a single base regressor.\n",
        "Bagging works particularly well when the base models have high variance, like decision trees. Would you like an example implementation in Python?\n"
      ],
      "metadata": {
        "id": "_ttsF1XQqd9L"
      }
    },
    {
      "cell_type": "markdown",
      "source": [
        "#9. What is the main advantage of ensemble techniques?\n",
        " - The biggest advantage of ensemble techniques is improved accuracy and robustness. By combining multiple models, ensembles leverage their strengths while reducing individual weaknesses. Here’s why they work so well:\n",
        "- Error Reduction: Averaging predictions from different models minimizes variance and reduces the impact of noisy data.\n",
        "- Better Generalization: Ensembles tend to perform better on unseen data compared to single models, preventing overfitting.\n",
        "- Model Diversity: Different algorithms capture different aspects of the data, leading to more balanced predictions.\n",
        "- Handling Complex Data: Ensembles can capture intricate relationships that might be missed by a single model.\n"
      ],
      "metadata": {
        "id": "_u5RDcNaqiL2"
      }
    },
    {
      "cell_type": "markdown",
      "source": [
        "#10. What is the main challenge of ensemble methods?\n",
        " - The main challenge of ensemble methods is finding the right balance between bias and variance while ensuring the models remain computationally efficient. Here are a few key difficulties:\n",
        "- Overfitting: While ensembles typically reduce variance, they can also become too complex and memorize the training data instead of generalizing well.\n",
        "- Computational Cost: Training multiple models and combining them requires significantly more time and resources compared to a single model.\n",
        "- Diversity vs. Accuracy Tradeoff: The individual models in an ensemble should be diverse enough to provide complementary insights but also strong enough to contribute positively.\n",
        "- Interpretability: The more models involved, the harder it is to understand why the ensemble made a particular prediction.\n",
        "- Hyperparameter Tuning: Choosing the right combination of models, weights, and aggregation methods can be tricky and may require extensive experimentation.\n"
      ],
      "metadata": {
        "id": "vbwaL3U1qmYv"
      }
    },
    {
      "cell_type": "markdown",
      "source": [
        "#11. Explain the key idea behind ensemble techniques.\n",
        " - Ensemble techniques in machine learning combine multiple models to improve performance and robustness. The key idea is that a group of weak models, when combined intelligently, can produce a stronger overall model.\n",
        "Here’s how it works:\n",
        "- Diversity of models – Different models might capture various patterns in the data, reducing bias and variance.\n",
        "- Voting or averaging – For classification tasks, models may vote on the most likely outcome, and for regression, their predictions might be averaged.\n",
        "- Boosting & bagging – Techniques like boosting (e.g., AdaBoost, XGBoost) focus on correcting errors sequentially, while bagging (e.g., Random Forest) reduces overfitting by training models on random subsets of data.\n",
        "By leveraging ensemble techniques, we can often achieve more accurate and generalizable predictions compared to any single model alone! Do you want an example to illustrate this?\n"
      ],
      "metadata": {
        "id": "Ev4ldMK_rpgK"
      }
    },
    {
      "cell_type": "markdown",
      "source": [
        "#12. What is a Random Forest Classifier?\n",
        " - A Random Forest Classifier is an ensemble learning method that builds multiple decision trees and combines their outputs to make more accurate and stable predictions. It is based on the Bagging (Bootstrap Aggregating) technique.\n"
      ],
      "metadata": {
        "id": "Sw7UtqaqrtXh"
      }
    },
    {
      "cell_type": "markdown",
      "source": [
        "#13. What are the main types of ensemble techniques?\n",
        " - The main types of ensemble methods are:\n",
        "1. **Bagging (Bootstrap Aggregating)**\n",
        "  - Creates multiple models trained on random subsets of the data.\n",
        "  - Reduces variance and prevents overfitting.\n",
        "  - Example: Random Forest\n",
        "\n",
        "2. **Boosting**\n",
        "  - Sequentially builds models where each corrects the errors of the previous one.\n",
        "  - Increases accuracy but may lead to overfitting if not managed properly.\n",
        "  - Examples: AdaBoost, Gradient Boosting, XGBoost, LightGBM\n",
        "\n",
        "3. **Stacking (Stacked Generalization)**\n",
        "  - Combines multiple models using a meta-model, which learns how to best integrate their predictions.\n",
        "  - Can include both different algorithms and boosting/bagging techniques.\n",
        "  - Example: Stacked ensembles in deep learning\n",
        "\n",
        "4. **Voting (Majority Voting)**\n",
        "  - Uses multiple models and chooses the most common prediction.\n",
        "  - Works with classifiers to improve decision-making.\n",
        "  - Example: Hard Voting & Soft Voting classifiers\n",
        "\n",
        "5. **Blending**\n",
        "  - Similar to stacking but uses a simple model (like linear regression) for the final prediction.\n",
        "  - Less complex than stacking but can still enhance performance.\n",
        "Each method has strengths and is suited to different types of problem.\n"
      ],
      "metadata": {
        "id": "Dx6M_jvur48f"
      }
    },
    {
      "cell_type": "markdown",
      "source": [
        "#14. What is ensemble learning in machine learning?\n",
        " - Ensemble learning is a machine learning technique that combines multiple models to improve accuracy and robustness. The core idea is that a group of weaker models, when combined effectively, can outperform a single strong model.\n"
      ],
      "metadata": {
        "id": "XcomLd0xr-T2"
      }
    },
    {
      "cell_type": "markdown",
      "source": [
        "#15. When should we avoid using ensemble methods?\n",
        " - Ensemble methods are powerful, but they’re not always the best choice. Here are some situations where avoiding ensemble techniques might be better:\n",
        "1. **When Computational Cost is Too High**\n",
        "2. **When Interpretability is Important**\n",
        "3. **When Data Size is Too Small**\n",
        "4. **When a Simple Model is Enough**\n",
        "5. **When Real-Time Predictions are Needed**"
      ],
      "metadata": {
        "id": "QraxkCxwsDRq"
      }
    },
    {
      "cell_type": "markdown",
      "source": [
        "#16. How does Bagging help in reducing overfitting?\n",
        " - Bagging, or Bootstrap Aggregating, helps reduce overfitting by introducing randomness and averaging predictions across multiple models. Here’s how it works:\n",
        "How Bagging Reduces Overfitting\n",
        "- Random Subset Selection\n",
        "- Independent Model Training\n",
        "- Aggregation of Predictions\n",
        "- Reduces Variance\n",
        "\n"
      ],
      "metadata": {
        "id": "C8YlcSo1sH38"
      }
    },
    {
      "cell_type": "markdown",
      "source": [
        "#17. Why is Random Forest better than a single Decision Tree?\n",
        " - Random Forest is generally better than a single Decision Tree because it enhances accuracy, stability, and generalization. Here’s why:\n",
        "1. **Reduces Overfitting**\n",
        "2. **More Accurate Predictions**\n",
        "3. **Handles Feature Importance**\n",
        "4. **Works Well with Large Datasets**\n",
        "5. **Less Sensitive to Changes in Data**"
      ],
      "metadata": {
        "id": "6qnA4QNqsMaj"
      }
    },
    {
      "cell_type": "markdown",
      "source": [
        "#18. What is the role of bootstrap sampling in Bagging?\n",
        " - Bootstrap sampling plays a crucial role in Bagging (Bootstrap Aggregating) by introducing randomness and diversity into the training process. Here's why it's important:\n",
        "\n",
        "**How Bootstrap Sampling Works in Bagging:**\n",
        "- Random Sampling with Replacement\n",
        "- Introduces Diversity\n",
        "- Reduces Overfitting\n",
        "- Enhances Robustness\n"
      ],
      "metadata": {
        "id": "piSlrmsPsSTy"
      }
    },
    {
      "cell_type": "markdown",
      "source": [
        "#19. What are some real-world applications of ensemble techniques?\n",
        " - Ensemble techniques are widely used across industries to improve accuracy, stability, and robustness of predictive models.\n",
        "\n",
        " Here are some key real-world applications:\n",
        "1. Fraud Detection (Finance & Banking)\n",
        "2. Medical Diagnosis & Healthcare\n",
        "3. Image Recognition & Computer Vision\n",
        "4. Natural Language Processing (NLP)\n",
        "5. Recommender Systems (E-commerce & Streaming)"
      ],
      "metadata": {
        "id": "AT7QqeuksUgu"
      }
    },
    {
      "cell_type": "markdown",
      "source": [
        "#20. What is the difference between Bagging and Boosting?\n",
        " - Difference between Bagging and Boosting:\n",
        " 1. **Bagging**\n",
        "  - Reduces variance and prevents overfitting by training multiple models on different subsets of data.\n",
        "  - Uses random sampling with replacement (bootstrapping) to create diverse datasets for each model.\n",
        "  - Models are trained independently and their predictions are combined (e.g., majority voting for classification, averaging for regression).\n",
        "  - Works well with unstable models like decision trees (e.g., Random Forest).\n",
        "\n",
        " 2. **Boosting**\n",
        "  - Reduces bias by sequentially training models, where each new model focuses on correcting the errors of the previous one.\n",
        "  - Instead of random sampling, Boosting assigns higher weight to misclassified samples, making later models more specialized.\n",
        "  - Models are dependent, meaning each new learner improves upon the mistakes of the last.\n",
        "  - Works well with weak learners (e.g., decision stumps) and builds a strong final model (e.g., AdaBoost, XGBoost).\n",
        "\n"
      ],
      "metadata": {
        "id": "xSozdIvtsY2X"
      }
    },
    {
      "cell_type": "markdown",
      "source": [
        "#**Practical Questions:**"
      ],
      "metadata": {
        "id": "g0dc9yYbsc7C"
      }
    },
    {
      "cell_type": "markdown",
      "source": [
        "#21. Train a Bagging Classifier using Decision Trees on a sample dataset and print model accuracy."
      ],
      "metadata": {
        "id": "fyMeocvQsgzE"
      }
    },
    {
      "cell_type": "code",
      "source": [
        "from sklearn.datasets import load_iris\n",
        "from sklearn.model_selection import train_test_split\n",
        "from sklearn.ensemble import BaggingClassifier\n",
        "from sklearn.tree import DecisionTreeClassifier\n",
        "from sklearn.metrics import accuracy_score\n",
        "\n",
        "iris = load_iris()\n",
        "X, y = iris.data, iris.target\n",
        "\n",
        "X_train, X_test, y_train, y_test = train_test_split(X, y, test_size=0.3, random_state=42)\n",
        "\n",
        "dtree = DecisionTreeClassifier(random_state=42)\n",
        "\n",
        "bagging = BaggingClassifier(estimator=dtree, n_estimators=10, random_state=42)\n",
        "\n",
        "bagging.fit(X_train, y_train)\n",
        "\n",
        "y_pred = bagging.predict(X_test)\n",
        "accuracy = accuracy_score(y_test, y_pred)\n",
        "\n",
        "print(f\"Model Accuracy: {accuracy:.2f}\")"
      ],
      "metadata": {
        "colab": {
          "base_uri": "https://localhost:8080/"
        },
        "id": "8GL2wMT0WqB_",
        "outputId": "886d2b77-4bb9-4de7-de59-d4820bde2f6a"
      },
      "execution_count": 6,
      "outputs": [
        {
          "output_type": "stream",
          "name": "stdout",
          "text": [
            "Model Accuracy: 1.00\n"
          ]
        }
      ]
    },
    {
      "cell_type": "markdown",
      "source": [
        "#22. Train a Bagging Regressor using Decision Trees and evaluate using Mean Squared Error (MSE)."
      ],
      "metadata": {
        "id": "GVxUqJ3pXIDQ"
      }
    },
    {
      "cell_type": "code",
      "source": [
        "from sklearn.datasets import load_diabetes\n",
        "from sklearn.model_selection import train_test_split\n",
        "from sklearn.tree import DecisionTreeRegressor\n",
        "from sklearn.ensemble import BaggingRegressor\n",
        "from sklearn.metrics import mean_squared_error\n",
        "\n",
        "data = load_diabetes()\n",
        "X = data.data\n",
        "y = data.target\n",
        "\n",
        "X_train, X_test, y_train, y_test = train_test_split(X, y, test_size=0.2, random_state=42)\n",
        "\n",
        "base_estimator = DecisionTreeRegressor(random_state=42)\n",
        "bagging_regressor = BaggingRegressor(estimator=base_estimator, n_estimators=10, random_state=42)\n",
        "\n",
        "bagging_regressor.fit(X_train, y_train)\n",
        "\n",
        "y_pred = bagging_regressor.predict(X_test)\n",
        "mse = mean_squared_error(y_test, y_pred)\n",
        "\n",
        "print(f\"Mean Squared Error: {mse:.2f}\")"
      ],
      "metadata": {
        "colab": {
          "base_uri": "https://localhost:8080/"
        },
        "id": "jxPw5Zxtgr2n",
        "outputId": "e5794f68-c560-4d48-d827-66c024666212"
      },
      "execution_count": 5,
      "outputs": [
        {
          "output_type": "stream",
          "name": "stdout",
          "text": [
            "Mean Squared Error: 3256.96\n"
          ]
        }
      ]
    },
    {
      "cell_type": "markdown",
      "source": [
        "#23. Train a Random Forest Classifier on the Breast Cancer dataset and print feature importance scores."
      ],
      "metadata": {
        "id": "qJCO3NgUhis8"
      }
    },
    {
      "cell_type": "code",
      "source": [
        "from sklearn.datasets import load_breast_cancer\n",
        "from sklearn.ensemble import RandomForestClassifier\n",
        "from sklearn.model_selection import train_test_split\n",
        "\n",
        "data = load_breast_cancer()\n",
        "X = data.data\n",
        "y = data.target\n",
        "feature_names = data.feature_names\n",
        "\n",
        "X_train, X_test, y_train, y_test = train_test_split(X, y, test_size=0.2, random_state=42)\n",
        "\n",
        "rf = RandomForestClassifier(n_estimators=100, random_state=42)\n",
        "rf.fit(X_train, y_train)\n",
        "\n",
        "importances = rf.feature_importances_\n",
        "\n",
        "print(\"Feature Importances:\")\n",
        "for name, importance in zip(feature_names, importances):\n",
        "    print(f\"{name}: {importance:.4f}\")\n"
      ],
      "metadata": {
        "colab": {
          "base_uri": "https://localhost:8080/"
        },
        "id": "DyhgoSSRhNWD",
        "outputId": "e82a2318-72db-4a02-f676-90ab53062d1e"
      },
      "execution_count": 7,
      "outputs": [
        {
          "output_type": "stream",
          "name": "stdout",
          "text": [
            "Feature Importances:\n",
            "mean radius: 0.0487\n",
            "mean texture: 0.0136\n",
            "mean perimeter: 0.0533\n",
            "mean area: 0.0476\n",
            "mean smoothness: 0.0073\n",
            "mean compactness: 0.0139\n",
            "mean concavity: 0.0680\n",
            "mean concave points: 0.1062\n",
            "mean symmetry: 0.0038\n",
            "mean fractal dimension: 0.0039\n",
            "radius error: 0.0201\n",
            "texture error: 0.0047\n",
            "perimeter error: 0.0113\n",
            "area error: 0.0224\n",
            "smoothness error: 0.0043\n",
            "compactness error: 0.0053\n",
            "concavity error: 0.0094\n",
            "concave points error: 0.0035\n",
            "symmetry error: 0.0040\n",
            "fractal dimension error: 0.0053\n",
            "worst radius: 0.0780\n",
            "worst texture: 0.0217\n",
            "worst perimeter: 0.0671\n",
            "worst area: 0.1539\n",
            "worst smoothness: 0.0106\n",
            "worst compactness: 0.0203\n",
            "worst concavity: 0.0318\n",
            "worst concave points: 0.1447\n",
            "worst symmetry: 0.0101\n",
            "worst fractal dimension: 0.0052\n"
          ]
        }
      ]
    },
    {
      "cell_type": "markdown",
      "source": [
        "#24. Train a Random Forest Regressor and compare its performance with a single Decision Tree."
      ],
      "metadata": {
        "id": "6aIvBFLOh0qB"
      }
    },
    {
      "cell_type": "code",
      "source": [
        "from sklearn.datasets import load_diabetes\n",
        "from sklearn.model_selection import train_test_split\n",
        "from sklearn.tree import DecisionTreeRegressor\n",
        "from sklearn.ensemble import RandomForestRegressor\n",
        "from sklearn.metrics import mean_squared_error\n",
        "\n",
        "data = load_diabetes()\n",
        "X = data.data\n",
        "y = data.target\n",
        "\n",
        "X_train, X_test, y_train, y_test = train_test_split(X, y, test_size=0.2, random_state=42)\n",
        "\n",
        "tree = DecisionTreeRegressor(random_state=42)\n",
        "tree.fit(X_train, y_train)\n",
        "tree_preds = tree.predict(X_test)\n",
        "tree_mse = mean_squared_error(y_test, tree_preds)\n",
        "\n",
        "forest = RandomForestRegressor(n_estimators=100, random_state=42)\n",
        "forest.fit(X_train, y_train)\n",
        "forest_preds = forest.predict(X_test)\n",
        "forest_mse = mean_squared_error(y_test, forest_preds)\n",
        "\n",
        "print(f\"Decision Tree MSE: {tree_mse:.2f}\")\n",
        "print(f\"Random Forest MSE: {forest_mse:.2f}\")\n"
      ],
      "metadata": {
        "colab": {
          "base_uri": "https://localhost:8080/"
        },
        "id": "MMmtTxndiQVL",
        "outputId": "b3e2c103-07a9-45be-adac-bd5fef5cc5cc"
      },
      "execution_count": 9,
      "outputs": [
        {
          "output_type": "stream",
          "name": "stdout",
          "text": [
            "Decision Tree MSE: 4976.80\n",
            "Random Forest MSE: 2952.01\n"
          ]
        }
      ]
    },
    {
      "cell_type": "markdown",
      "source": [
        "#25. Compute the Out-of-Bag (OOB) Score for a Random Forest Classifier.\n"
      ],
      "metadata": {
        "id": "InPa4t1qh3Os"
      }
    },
    {
      "cell_type": "code",
      "source": [
        "from sklearn.datasets import load_breast_cancer\n",
        "from sklearn.ensemble import RandomForestClassifier\n",
        "from sklearn.model_selection import train_test_split\n",
        "\n",
        "data = load_breast_cancer()\n",
        "X = data.data\n",
        "y = data.target\n",
        "\n",
        "X_train, X_test, y_train, y_test = train_test_split(X, y, test_size=0.2, random_state=42)\n",
        "\n",
        "rf = RandomForestClassifier(n_estimators=100, oob_score=True, bootstrap=True, random_state=42)\n",
        "rf.fit(X_train, y_train)\n",
        "\n",
        "print(f\"OOB Score: {rf.oob_score_:.4f}\")\n"
      ],
      "metadata": {
        "colab": {
          "base_uri": "https://localhost:8080/"
        },
        "id": "E0urEIFkicz1",
        "outputId": "87181bd8-6e4c-44bd-92ce-9293227eadbb"
      },
      "execution_count": 10,
      "outputs": [
        {
          "output_type": "stream",
          "name": "stdout",
          "text": [
            "OOB Score: 0.9560\n"
          ]
        }
      ]
    },
    {
      "cell_type": "markdown",
      "source": [
        "#26. Train a Bagging Classifier using SVM as a base estimator and print accuracy."
      ],
      "metadata": {
        "id": "1s9iW754i0Sp"
      }
    },
    {
      "cell_type": "code",
      "source": [
        "from sklearn.ensemble import BaggingClassifier\n",
        "from sklearn.svm import SVC\n",
        "from sklearn.datasets import load_iris\n",
        "from sklearn.model_selection import train_test_split\n",
        "from sklearn.metrics import accuracy_score\n",
        "\n",
        "X, y = load_iris(return_X_y=True)\n",
        "\n",
        "X_train, X_test, y_train, y_test = train_test_split(X, y, test_size=0.3, random_state=42)\n",
        "\n",
        "svm = SVC()\n",
        "\n",
        "bagging_clf = BaggingClassifier(estimator=svm, n_estimators=10, random_state=42)\n",
        "\n",
        "bagging_clf.fit(X_train, y_train)\n",
        "\n",
        "y_pred = bagging_clf.predict(X_test)\n",
        "\n",
        "accuracy = accuracy_score(y_test, y_pred)\n",
        "print(f\"Bagging Classifier with SVM Accuracy: {accuracy:.2f}\")"
      ],
      "metadata": {
        "colab": {
          "base_uri": "https://localhost:8080/"
        },
        "id": "lqbj_LpKiyEl",
        "outputId": "62252f23-f5dd-4cc7-d6de-813f901f38cc"
      },
      "execution_count": 14,
      "outputs": [
        {
          "output_type": "stream",
          "name": "stdout",
          "text": [
            "Bagging Classifier with SVM Accuracy: 1.00\n"
          ]
        }
      ]
    },
    {
      "cell_type": "markdown",
      "source": [
        "#27. Train a Random Forest Classifier with different numbers of trees and compare accuracy."
      ],
      "metadata": {
        "id": "HUG2HmUhi44V"
      }
    },
    {
      "cell_type": "code",
      "source": [
        "import matplotlib.pyplot as plt\n",
        "from sklearn.ensemble import RandomForestClassifier\n",
        "from sklearn.datasets import load_iris\n",
        "from sklearn.model_selection import train_test_split\n",
        "from sklearn.metrics import accuracy_score\n",
        "\n",
        "X, y = load_iris(return_X_y=True)\n",
        "\n",
        "X_train, X_test, y_train, y_test = train_test_split(X, y, test_size=0.3, random_state=42)\n",
        "\n",
        "n_estimators_range = [1, 5, 10, 20, 50, 100, 200]\n",
        "accuracies = []\n",
        "\n",
        "for n in n_estimators_range:\n",
        "    clf = RandomForestClassifier(n_estimators=n, random_state=42)\n",
        "    clf.fit(X_train, y_train)\n",
        "    y_pred = clf.predict(X_test)\n",
        "    acc = accuracy_score(y_test, y_pred)\n",
        "    accuracies.append(acc)\n",
        "    print(f\"n_estimators={n} --> Accuracy: {acc:.2f}\")\n",
        "\n",
        "plt.figure(figsize=(8, 5))\n",
        "plt.plot(n_estimators_range, accuracies, marker='o')\n",
        "plt.title(\"Random Forest Accuracy vs Number of Trees\")\n",
        "plt.xlabel(\"Number of Trees\")\n",
        "plt.ylabel(\"Accuracy\")\n",
        "plt.grid(True)\n",
        "plt.show()\n"
      ],
      "metadata": {
        "colab": {
          "base_uri": "https://localhost:8080/",
          "height": 614
        },
        "id": "rxKieOKakcKE",
        "outputId": "b70e9bd7-0ee7-4b48-bf5c-0faa96932600"
      },
      "execution_count": 16,
      "outputs": [
        {
          "output_type": "stream",
          "name": "stdout",
          "text": [
            "n_estimators=1 --> Accuracy: 1.00\n",
            "n_estimators=5 --> Accuracy: 1.00\n",
            "n_estimators=10 --> Accuracy: 1.00\n",
            "n_estimators=20 --> Accuracy: 1.00\n",
            "n_estimators=50 --> Accuracy: 1.00\n",
            "n_estimators=100 --> Accuracy: 1.00\n",
            "n_estimators=200 --> Accuracy: 1.00\n"
          ]
        },
        {
          "output_type": "display_data",
          "data": {
            "text/plain": [
              "<Figure size 800x500 with 1 Axes>"
            ],
            "image/png": "[encoded data removed]"
          },
          "metadata": {}
        }
      ]
    },
    {
      "cell_type": "markdown",
      "source": [
        "#28. Train a Bagging Classifier using Logistic Regression as a base estimator and print AUC score."
      ],
      "metadata": {
        "id": "Ea91TevHi84y"
      }
    },
    {
      "cell_type": "code",
      "source": [
        "from sklearn.ensemble import BaggingClassifier\n",
        "from sklearn.linear_model import LogisticRegression\n",
        "from sklearn.datasets import load_breast_cancer\n",
        "from sklearn.model_selection import train_test_split\n",
        "from sklearn.metrics import roc_auc_score\n",
        "\n",
        "X, y = load_breast_cancer(return_X_y=True)\n",
        "\n",
        "X_train, X_test, y_train, y_test = train_test_split(X, y, test_size=0.3, random_state=42)\n",
        "\n",
        "log_reg = LogisticRegression(max_iter=1000, solver='liblinear')\n",
        "\n",
        "bagging_clf = BaggingClassifier(estimator=log_reg, n_estimators=10, random_state=42)\n",
        "\n",
        "bagging_clf.fit(X_train, y_train)\n",
        "\n",
        "y_prob = bagging_clf.predict_proba(X_test)[:, 1]\n",
        "\n",
        "auc = roc_auc_score(y_test, y_prob)\n",
        "print(f\"Bagging Classifier with Logistic Regression AUC: {auc:.2f}\")"
      ],
      "metadata": {
        "colab": {
          "base_uri": "https://localhost:8080/"
        },
        "id": "PCy9HpzPkvyS",
        "outputId": "ea56cac3-f0ef-4d92-cfbf-7e4cd05f2e03"
      },
      "execution_count": 19,
      "outputs": [
        {
          "output_type": "stream",
          "name": "stdout",
          "text": [
            "Bagging Classifier with Logistic Regression AUC: 1.00\n"
          ]
        }
      ]
    },
    {
      "cell_type": "markdown",
      "source": [
        "#29. Train a Random Forest Regressor and analyze feature importance scores."
      ],
      "metadata": {
        "id": "qyi9QZvnjANW"
      }
    },
    {
      "cell_type": "code",
      "source": [
        "from sklearn.datasets import load_diabetes\n",
        "from sklearn.ensemble import RandomForestRegressor\n",
        "from sklearn.model_selection import train_test_split\n",
        "import pandas as pd\n",
        "\n",
        "X, y = load_diabetes(return_X_y=True)\n",
        "feature_names = load_diabetes().feature_names\n",
        "\n",
        "X_train, X_test, y_train, y_test = train_test_split(X, y, test_size=0.3, random_state=42)\n",
        "\n",
        "rf_regressor = RandomForestRegressor(n_estimators=100, random_state=42)\n",
        "rf_regressor.fit(X_train, y_train)\n",
        "\n",
        "importances = rf_regressor.feature_importances_\n",
        "importance_df = pd.DataFrame({\n",
        "    'Feature': feature_names,\n",
        "    'Importance': importances\n",
        "}).sort_values(by='Importance', ascending=False)\n",
        "\n",
        "print(\"Feature Importance Scores:\")\n",
        "print(importance_df.to_string(index=False))\n"
      ],
      "metadata": {
        "colab": {
          "base_uri": "https://localhost:8080/"
        },
        "id": "NSVM-W6h6Rng",
        "outputId": "5e925875-9ea9-4ba2-89e8-479010e52df0"
      },
      "execution_count": 46,
      "outputs": [
        {
          "output_type": "stream",
          "name": "stdout",
          "text": [
            "Feature Importance Scores:\n",
            "Feature  Importance\n",
            "    bmi    0.400000\n",
            "     s5    0.166602\n",
            "     bp    0.104839\n",
            "     s6    0.071358\n",
            "     s3    0.061730\n",
            "    age    0.058633\n",
            "     s1    0.049191\n",
            "     s2    0.047138\n",
            "     s4    0.029427\n",
            "    sex    0.011082\n"
          ]
        }
      ]
    },
    {
      "cell_type": "markdown",
      "source": [
        "#30. Train an ensemble model using both Bagging and Random Forest and compare accuracy."
      ],
      "metadata": {
        "id": "5dCPMBYwjDq7"
      }
    },
    {
      "cell_type": "code",
      "source": [
        "from sklearn.ensemble import BaggingClassifier, RandomForestClassifier\n",
        "from sklearn.tree import DecisionTreeClassifier\n",
        "from sklearn.datasets import load_iris\n",
        "from sklearn.model_selection import train_test_split\n",
        "from sklearn.metrics import accuracy_score\n",
        "\n",
        "# Load dataset\n",
        "X, y = load_iris(return_X_y=True)\n",
        "\n",
        "# Train/test split\n",
        "X_train, X_test, y_train, y_test = train_test_split(X, y, test_size=0.3, random_state=42)\n",
        "\n",
        "# --- Bagging Classifier ---\n",
        "bagging = BaggingClassifier(\n",
        "    estimator=DecisionTreeClassifier(),\n",
        "    n_estimators=50,\n",
        "    random_state=42\n",
        ")\n",
        "bagging.fit(X_train, y_train)\n",
        "y_pred_bagging = bagging.predict(X_test)\n",
        "bagging_accuracy = accuracy_score(y_test, y_pred_bagging)\n",
        "\n",
        "# --- Random Forest Classifier ---\n",
        "rf = RandomForestClassifier(n_estimators=50, random_state=42)\n",
        "rf.fit(X_train, y_train)\n",
        "y_pred_rf = rf.predict(X_test)\n",
        "rf_accuracy = accuracy_score(y_test, y_pred_rf)\n",
        "\n",
        "# --- Print Results ---\n",
        "print(f\"Bagging Classifier Accuracy:       {bagging_accuracy:.2f}\")\n",
        "print(f\"Random Forest Classifier Accuracy: {rf_accuracy:.2f}\")"
      ],
      "metadata": {
        "colab": {
          "base_uri": "https://localhost:8080/"
        },
        "id": "qDr19yvElYeB",
        "outputId": "a39c7c0d-1ec9-451e-acec-a3db09f06085"
      },
      "execution_count": 26,
      "outputs": [
        {
          "output_type": "stream",
          "name": "stdout",
          "text": [
            "Bagging Classifier Accuracy:       1.00\n",
            "Random Forest Classifier Accuracy: 1.00\n"
          ]
        }
      ]
    },
    {
      "cell_type": "markdown",
      "source": [
        "#31. Train a Random Forest Classifier and tune hyperparameters using GridSearchCV.\n"
      ],
      "metadata": {
        "id": "IXrV5lfa0oc2"
      }
    },
    {
      "cell_type": "code",
      "source": [
        "from sklearn.ensemble import RandomForestClassifier\n",
        "from sklearn.datasets import load_iris\n",
        "from sklearn.model_selection import train_test_split, GridSearchCV\n",
        "from sklearn.metrics import accuracy_score\n",
        "\n",
        "X, y = load_iris(return_X_y=True)\n",
        "\n",
        "X_train, X_test, y_train, y_test = train_test_split(X, y, test_size=0.3, random_state=42)\n",
        "\n",
        "rf = RandomForestClassifier(random_state=42)\n",
        "\n",
        "param_grid = {\n",
        "    'n_estimators': [10, 50, 100],\n",
        "    'max_depth': [None, 5, 10],\n",
        "    'min_samples_split': [2, 5],\n",
        "    'min_samples_leaf': [1, 2]\n",
        "}\n",
        "\n",
        "grid_search = GridSearchCV(estimator=rf, param_grid=param_grid, cv=5, scoring='accuracy', n_jobs=-1)\n",
        "grid_search.fit(X_train, y_train)\n",
        "\n",
        "best_rf = grid_search.best_estimator_\n",
        "\n",
        "y_pred = best_rf.predict(X_test)\n",
        "accuracy = accuracy_score(y_test, y_pred)\n",
        "\n",
        "print(\"Best Parameters:\", grid_search.best_params_)\n",
        "print(f\"Random Forest Accuracy after Tuning: {accuracy:.2f}\")\n"
      ],
      "metadata": {
        "colab": {
          "base_uri": "https://localhost:8080/"
        },
        "id": "feZY7hsU0Kx4",
        "outputId": "388859cb-469f-4d2e-f3ff-89895a3ef640"
      },
      "execution_count": 27,
      "outputs": [
        {
          "output_type": "stream",
          "name": "stdout",
          "text": [
            "Best Parameters: {'max_depth': None, 'min_samples_leaf': 1, 'min_samples_split': 2, 'n_estimators': 100}\n",
            "Random Forest Accuracy after Tuning: 1.00\n"
          ]
        }
      ]
    },
    {
      "cell_type": "markdown",
      "source": [
        "#32. Train a Bagging Regressor with different numbers of base estimators and compare performance."
      ],
      "metadata": {
        "id": "cukQpPUk0u6X"
      }
    },
    {
      "cell_type": "code",
      "source": [
        "import numpy as np\n",
        "import matplotlib.pyplot as plt\n",
        "from sklearn.ensemble import BaggingRegressor\n",
        "from sklearn.tree import DecisionTreeRegressor\n",
        "from sklearn.metrics import mean_squared_error\n",
        "from sklearn.model_selection import train_test_split\n",
        "from sklearn.datasets import make_regression\n",
        "\n",
        "X, y = make_regression(n_samples=1000, n_features=10, noise=0.3, random_state=42)\n",
        "X_train, X_test, y_train, y_test = train_test_split(X, y, test_size=0.2, random_state=42)\n",
        "\n",
        "n_estimators_list = [1, 5, 10, 25, 50, 100]\n",
        "mse_scores = []\n",
        "\n",
        "for n in n_estimators_list:\n",
        "    model = BaggingRegressor(\n",
        "        estimator=DecisionTreeRegressor(),\n",
        "        n_estimators=n,\n",
        "        random_state=42,\n",
        "        n_jobs=-1\n",
        "    )\n",
        "    model.fit(X_train, y_train)\n",
        "    y_pred = model.predict(X_test)\n",
        "    mse = mean_squared_error(y_test, y_pred)\n",
        "    mse_scores.append(mse)\n",
        "\n",
        "plt.figure(figsize=(10, 6))\n",
        "plt.plot(n_estimators_list, mse_scores, marker='o', linestyle='-')\n",
        "plt.title(\"Bagging Regressor Performance vs. Number of Estimators\")\n",
        "plt.xlabel(\"Number of Estimators\")\n",
        "plt.ylabel(\"Mean Squared Error\")\n",
        "plt.grid(True)\n",
        "plt.show()"
      ],
      "metadata": {
        "colab": {
          "base_uri": "https://localhost:8080/",
          "height": 564
        },
        "id": "hRpmcjTU12OL",
        "outputId": "b73ffe4a-b509-471e-c183-a066e83f4447"
      },
      "execution_count": 29,
      "outputs": [
        {
          "output_type": "display_data",
          "data": {
            "text/plain": [
              "<Figure size 1000x600 with 1 Axes>"
            ],
            "image/png": "[encoded data removed]"
          },
          "metadata": {}
        }
      ]
    },
    {
      "cell_type": "markdown",
      "source": [
        "#33. Train a Random Forest Classifier and analyze misclassified samples.\n"
      ],
      "metadata": {
        "id": "V8lLEYo20yup"
      }
    },
    {
      "cell_type": "code",
      "source": [
        "import numpy as np\n",
        "import pandas as pd\n",
        "from sklearn.datasets import load_iris\n",
        "from sklearn.model_selection import train_test_split\n",
        "from sklearn.ensemble import RandomForestClassifier\n",
        "from sklearn.metrics import classification_report, confusion_matrix\n",
        "\n",
        "iris = load_iris()\n",
        "X = iris.data\n",
        "y = iris.target\n",
        "feature_names = iris.feature_names\n",
        "target_names = iris.target_names\n",
        "\n",
        "X_train, X_test, y_train, y_test = train_test_split(X, y, test_size=0.3, random_state=42)\n",
        "\n",
        "clf = RandomForestClassifier(n_estimators=100, random_state=42)\n",
        "clf.fit(X_train, y_train)\n",
        "\n",
        "y_pred = clf.predict(X_test)\n",
        "\n",
        "print(\"Classification Report:\\n\", classification_report(y_test, y_pred, target_names=target_names))\n",
        "print(\"Confusion Matrix:\\n\", confusion_matrix(y_test, y_pred))\n",
        "\n",
        "misclassified_idx = np.where(y_test != y_pred)[0]\n",
        "if len(misclassified_idx) > 0:\n",
        "    print(\"\\nMisclassified Samples:\")\n",
        "    for idx in misclassified_idx:\n",
        "        print(f\"True: {target_names[y_test[idx]]}, Predicted: {target_names[y_pred[idx]]}, Features: {X_test[idx]}\")\n",
        "else:\n",
        "    print(\"\\nNo misclassified samples. 🎉 The model nailed it!\")"
      ],
      "metadata": {
        "colab": {
          "base_uri": "https://localhost:8080/"
        },
        "id": "tBUUn8Bf2Q_9",
        "outputId": "c9ea54ee-5806-4f19-c7de-5525617170a2"
      },
      "execution_count": 30,
      "outputs": [
        {
          "output_type": "stream",
          "name": "stdout",
          "text": [
            "Classification Report:\n",
            "               precision    recall  f1-score   support\n",
            "\n",
            "      setosa       1.00      1.00      1.00        19\n",
            "  versicolor       1.00      1.00      1.00        13\n",
            "   virginica       1.00      1.00      1.00        13\n",
            "\n",
            "    accuracy                           1.00        45\n",
            "   macro avg       1.00      1.00      1.00        45\n",
            "weighted avg       1.00      1.00      1.00        45\n",
            "\n",
            "Confusion Matrix:\n",
            " [[19  0  0]\n",
            " [ 0 13  0]\n",
            " [ 0  0 13]]\n",
            "\n",
            "No misclassified samples. 🎉 The model nailed it!\n"
          ]
        }
      ]
    },
    {
      "cell_type": "markdown",
      "source": [
        "#34. Train a Bagging Classifier and compare its performance with a single Decision Tree Classifier."
      ],
      "metadata": {
        "id": "ssJFGAWm04I3"
      }
    },
    {
      "cell_type": "code",
      "source": [
        "from sklearn.datasets import load_breast_cancer\n",
        "from sklearn.model_selection import train_test_split\n",
        "from sklearn.tree import DecisionTreeClassifier\n",
        "from sklearn.ensemble import BaggingClassifier\n",
        "from sklearn.metrics import accuracy_score, classification_report\n",
        "\n",
        "X, y = load_breast_cancer(return_X_y=True)\n",
        "X_train, X_test, y_train, y_test = train_test_split(X, y, test_size=0.3, random_state=42)\n",
        "\n",
        "tree_clf = DecisionTreeClassifier(random_state=42)\n",
        "tree_clf.fit(X_train, y_train)\n",
        "tree_pred = tree_clf.predict(X_test)\n",
        "tree_acc = accuracy_score(y_test, tree_pred)\n",
        "\n",
        "bagging_clf = BaggingClassifier(\n",
        "    estimator=DecisionTreeClassifier(),\n",
        "    n_estimators=100,\n",
        "    random_state=42,\n",
        "    n_jobs=-1\n",
        ")\n",
        "bagging_clf.fit(X_train, y_train)\n",
        "bagging_pred = bagging_clf.predict(X_test)\n",
        "bagging_acc = accuracy_score(y_test, bagging_pred)\n",
        "\n",
        "print(f\"Single Decision Tree Accuracy: {tree_acc:.4f}\")\n",
        "print(f\"Bagging Classifier Accuracy  : {bagging_acc:.4f}\\n\")\n",
        "\n",
        "print(\"Bagging Classifier Report:\")\n",
        "print(classification_report(y_test, bagging_pred))\n",
        "\n",
        "print(\"Single Tree Report:\")\n",
        "print(classification_report(y_test, tree_pred))"
      ],
      "metadata": {
        "colab": {
          "base_uri": "https://localhost:8080/"
        },
        "id": "IqVzPb2D2epx",
        "outputId": "42578b23-d7ab-4954-8457-3549be6165d8"
      },
      "execution_count": 32,
      "outputs": [
        {
          "output_type": "stream",
          "name": "stdout",
          "text": [
            "Single Decision Tree Accuracy: 0.9415\n",
            "Bagging Classifier Accuracy  : 0.9591\n",
            "\n",
            "Bagging Classifier Report:\n",
            "              precision    recall  f1-score   support\n",
            "\n",
            "           0       0.95      0.94      0.94        63\n",
            "           1       0.96      0.97      0.97       108\n",
            "\n",
            "    accuracy                           0.96       171\n",
            "   macro avg       0.96      0.95      0.96       171\n",
            "weighted avg       0.96      0.96      0.96       171\n",
            "\n",
            "Single Tree Report:\n",
            "              precision    recall  f1-score   support\n",
            "\n",
            "           0       0.90      0.95      0.92        63\n",
            "           1       0.97      0.94      0.95       108\n",
            "\n",
            "    accuracy                           0.94       171\n",
            "   macro avg       0.93      0.94      0.94       171\n",
            "weighted avg       0.94      0.94      0.94       171\n",
            "\n"
          ]
        }
      ]
    },
    {
      "cell_type": "markdown",
      "source": [
        "#35. Train a Random Forest Classifier and visualize the confusion matrix.\n"
      ],
      "metadata": {
        "id": "d_Z78x_009DT"
      }
    },
    {
      "cell_type": "code",
      "source": [
        "from sklearn.datasets import load_breast_cancer\n",
        "from sklearn.model_selection import train_test_split\n",
        "from sklearn.tree import DecisionTreeClassifier\n",
        "from sklearn.ensemble import BaggingClassifier\n",
        "from sklearn.metrics import accuracy_score, classification_report\n",
        "\n",
        "X, y = load_breast_cancer(return_X_y=True)\n",
        "X_train, X_test, y_train, y_test = train_test_split(X, y, test_size=0.3, random_state=42)\n",
        "\n",
        "tree_clf = DecisionTreeClassifier(random_state=42)\n",
        "tree_clf.fit(X_train, y_train)\n",
        "tree_pred = tree_clf.predict(X_test)\n",
        "tree_acc = accuracy_score(y_test, tree_pred)\n",
        "\n",
        "bagging_clf = BaggingClassifier(\n",
        "    estimator=DecisionTreeClassifier(),\n",
        "    n_estimators=100,\n",
        "    random_state=42,\n",
        "    n_jobs=-1\n",
        ")\n",
        "bagging_clf.fit(X_train, y_train)\n",
        "bagging_pred = bagging_clf.predict(X_test)\n",
        "bagging_acc = accuracy_score(y_test, bagging_pred)\n",
        "\n",
        "print(f\"Single Decision Tree Accuracy: {tree_acc:.4f}\")\n",
        "print(f\"Bagging Classifier Accuracy  : {bagging_acc:.4f}\\n\")\n",
        "\n",
        "print(\"Bagging Classifier Report:\")\n",
        "print(classification_report(y_test, bagging_pred))\n",
        "\n",
        "print(\"Single Tree Report:\")\n",
        "print(classification_report(y_test, tree_pred))"
      ],
      "metadata": {
        "colab": {
          "base_uri": "https://localhost:8080/"
        },
        "id": "M-mIeVJF2vzb",
        "outputId": "a6c941b4-25e2-4709-f18e-78c1b82c2c50"
      },
      "execution_count": 34,
      "outputs": [
        {
          "output_type": "stream",
          "name": "stdout",
          "text": [
            "Single Decision Tree Accuracy: 0.9415\n",
            "Bagging Classifier Accuracy  : 0.9591\n",
            "\n",
            "Bagging Classifier Report:\n",
            "              precision    recall  f1-score   support\n",
            "\n",
            "           0       0.95      0.94      0.94        63\n",
            "           1       0.96      0.97      0.97       108\n",
            "\n",
            "    accuracy                           0.96       171\n",
            "   macro avg       0.96      0.95      0.96       171\n",
            "weighted avg       0.96      0.96      0.96       171\n",
            "\n",
            "Single Tree Report:\n",
            "              precision    recall  f1-score   support\n",
            "\n",
            "           0       0.90      0.95      0.92        63\n",
            "           1       0.97      0.94      0.95       108\n",
            "\n",
            "    accuracy                           0.94       171\n",
            "   macro avg       0.93      0.94      0.94       171\n",
            "weighted avg       0.94      0.94      0.94       171\n",
            "\n"
          ]
        }
      ]
    },
    {
      "cell_type": "markdown",
      "source": [
        "#36. Train a Stacking Classifier using Decision Trees, SVM, and Logistic Regression, and compare accuracy.\n"
      ],
      "metadata": {
        "id": "CXqW062M1EW3"
      }
    },
    {
      "cell_type": "code",
      "source": [
        "from sklearn.datasets import load_breast_cancer\n",
        "from sklearn.model_selection import train_test_split\n",
        "from sklearn.ensemble import StackingClassifier\n",
        "from sklearn.linear_model import LogisticRegression\n",
        "from sklearn.tree import DecisionTreeClassifier\n",
        "from sklearn.svm import SVC\n",
        "from sklearn.metrics import accuracy_score\n",
        "\n",
        "X, y = load_breast_cancer(return_X_y=True)\n",
        "X_train, X_test, y_train, y_test = train_test_split(X, y, test_size=0.3, random_state=42)\n",
        "\n",
        "estimators = [\n",
        "    ('dt', DecisionTreeClassifier(random_state=42)),\n",
        "    ('svm', SVC(probability=True, random_state=42)),\n",
        "    ('lr', LogisticRegression(max_iter=1000, solver='liblinear'))\n",
        "]\n",
        "\n",
        "stacking_clf = StackingClassifier(\n",
        "    estimators=estimators,\n",
        "    final_estimator=LogisticRegression(),\n",
        "    n_jobs=-1\n",
        ")\n",
        "stacking_clf.fit(X_train, y_train)\n",
        "\n",
        "models = {\n",
        "    'Decision Tree': estimators[0][1].fit(X_train, y_train),\n",
        "    'SVM': estimators[1][1].fit(X_train, y_train),\n",
        "    'Logistic Regression': estimators[2][1].fit(X_train, y_train),\n",
        "    'Stacking Classifier': stacking_clf\n",
        "}\n",
        "\n",
        "print(\"Model Accuracies:\")\n",
        "for name, model in models.items():\n",
        "    acc = accuracy_score(y_test, model.predict(X_test))\n",
        "    print(f\"{name:22}: {acc:.4f}\")\n"
      ],
      "metadata": {
        "colab": {
          "base_uri": "https://localhost:8080/"
        },
        "id": "LqdmRzZP3Qy2",
        "outputId": "a7761f75-e96d-4ef3-e9be-b80c92b03442"
      },
      "execution_count": 47,
      "outputs": [
        {
          "output_type": "stream",
          "name": "stdout",
          "text": [
            "Model Accuracies:\n",
            "Decision Tree         : 0.9415\n",
            "SVM                   : 0.9357\n",
            "Logistic Regression   : 0.9649\n",
            "Stacking Classifier   : 0.9766\n"
          ]
        }
      ]
    },
    {
      "cell_type": "markdown",
      "source": [
        "#37. Train a Random Forest Classifier and print the top 5 most important features.\n"
      ],
      "metadata": {
        "id": "KEvnemSu1KMr"
      }
    },
    {
      "cell_type": "code",
      "source": [
        "from sklearn.datasets import load_breast_cancer\n",
        "from sklearn.ensemble import RandomForestClassifier\n",
        "from sklearn.model_selection import train_test_split\n",
        "import pandas as pd\n",
        "\n",
        "data = load_breast_cancer()\n",
        "X, y = data.data, data.target\n",
        "feature_names = data.feature_names\n",
        "\n",
        "X_train, X_test, y_train, y_test = train_test_split(X, y, test_size=0.2, random_state=42)\n",
        "\n",
        "rf = RandomForestClassifier(n_estimators=100, random_state=42)\n",
        "rf.fit(X_train, y_train)\n",
        "\n",
        "importances = rf.feature_importances_\n",
        "feature_importance_df = pd.DataFrame({\n",
        "    'Feature': feature_names,\n",
        "    'Importance': importances\n",
        "})\n",
        "\n",
        "top_features = feature_importance_df.sort_values(by='Importance', ascending=False).head(5)\n",
        "print(\"Top 5 Important Features:\")\n",
        "print(top_features.to_string(index=False))\n"
      ],
      "metadata": {
        "colab": {
          "base_uri": "https://localhost:8080/"
        },
        "id": "dBSuugVi3r3h",
        "outputId": "d5c4df8d-49f2-4e31-e86a-b02e1a1fc4c4"
      },
      "execution_count": 37,
      "outputs": [
        {
          "output_type": "stream",
          "name": "stdout",
          "text": [
            "Top 5 Important Features:\n",
            "             Feature  Importance\n",
            "          worst area    0.153892\n",
            "worst concave points    0.144663\n",
            " mean concave points    0.106210\n",
            "        worst radius    0.077987\n",
            "      mean concavity    0.068001\n"
          ]
        }
      ]
    },
    {
      "cell_type": "markdown",
      "source": [
        "#38. Train a Bagging Classifier and evaluate performance using Precision, Recall, and F1-score."
      ],
      "metadata": {
        "id": "e2pPPDZH1MtD"
      }
    },
    {
      "cell_type": "code",
      "source": [
        "from sklearn.datasets import load_breast_cancer\n",
        "from sklearn.model_selection import train_test_split\n",
        "from sklearn.ensemble import BaggingClassifier\n",
        "from sklearn.tree import DecisionTreeClassifier\n",
        "from sklearn.metrics import classification_report\n",
        "\n",
        "data = load_breast_cancer()\n",
        "X, y = data.data, data.target\n",
        "\n",
        "X_train, X_test, y_train, y_test = train_test_split(X, y, test_size=0.3, random_state=42)\n",
        "\n",
        "base_estimator = DecisionTreeClassifier(random_state=42)\n",
        "bagging_clf = BaggingClassifier(estimator=base_estimator, n_estimators=50, random_state=42, n_jobs=-1)\n",
        "\n",
        "bagging_clf.fit(X_train, y_train)\n",
        "\n",
        "y_pred = bagging_clf.predict(X_test)\n",
        "print(\"Classification Report:\\n\")\n",
        "print(classification_report(y_test, y_pred))\n"
      ],
      "metadata": {
        "colab": {
          "base_uri": "https://localhost:8080/"
        },
        "id": "pP_WRlAs31hA",
        "outputId": "cc2379ad-cdbf-4bf3-cfa4-62cad1a7511e"
      },
      "execution_count": 38,
      "outputs": [
        {
          "output_type": "stream",
          "name": "stdout",
          "text": [
            "Classification Report:\n",
            "\n",
            "              precision    recall  f1-score   support\n",
            "\n",
            "           0       0.95      0.94      0.94        63\n",
            "           1       0.96      0.97      0.97       108\n",
            "\n",
            "    accuracy                           0.96       171\n",
            "   macro avg       0.96      0.95      0.96       171\n",
            "weighted avg       0.96      0.96      0.96       171\n",
            "\n"
          ]
        }
      ]
    },
    {
      "cell_type": "markdown",
      "source": [
        "#39. Train a Random Forest Classifier and analyze the effect of max_depth on accuracy."
      ],
      "metadata": {
        "id": "6fdLnJA-1R5b"
      }
    },
    {
      "cell_type": "code",
      "source": [
        "import matplotlib.pyplot as plt\n",
        "from sklearn.datasets import load_breast_cancer\n",
        "from sklearn.ensemble import RandomForestClassifier\n",
        "from sklearn.model_selection import train_test_split\n",
        "from sklearn.metrics import accuracy_score\n",
        "\n",
        "X, y = load_breast_cancer(return_X_y=True)\n",
        "X_train, X_test, y_train, y_test = train_test_split(X, y, test_size=0.3, random_state=42)\n",
        "\n",
        "depth_values = [None, 2, 4, 6, 8, 10, 15]\n",
        "accuracies = []\n",
        "\n",
        "for depth in depth_values:\n",
        "    clf = RandomForestClassifier(n_estimators=100, max_depth=depth, random_state=42)\n",
        "    clf.fit(X_train, y_train)\n",
        "    y_pred = clf.predict(X_test)\n",
        "    acc = accuracy_score(y_test, y_pred)\n",
        "    accuracies.append(acc)\n",
        "    print(f\"max_depth={depth} --> Accuracy: {acc:.4f}\")\n",
        "\n",
        "plt.figure(figsize=(8, 5))\n",
        "plt.plot([str(d) for d in depth_values], accuracies, marker='o', linestyle='-', color='darkgreen')\n",
        "plt.title(\"Random Forest Accuracy vs max_depth\")\n",
        "plt.xlabel(\"max_depth\")\n",
        "plt.ylabel(\"Accuracy\")\n",
        "plt.grid(True)\n",
        "plt.show()\n"
      ],
      "metadata": {
        "colab": {
          "base_uri": "https://localhost:8080/",
          "height": 614
        },
        "id": "VBUt2kSJ3_Nl",
        "outputId": "dd89c724-5e0e-43d9-dc61-f956ca72e7e2"
      },
      "execution_count": 45,
      "outputs": [
        {
          "output_type": "stream",
          "name": "stdout",
          "text": [
            "max_depth=None --> Accuracy: 0.9708\n",
            "max_depth=2 --> Accuracy: 0.9532\n",
            "max_depth=4 --> Accuracy: 0.9708\n",
            "max_depth=6 --> Accuracy: 0.9649\n",
            "max_depth=8 --> Accuracy: 0.9708\n",
            "max_depth=10 --> Accuracy: 0.9708\n",
            "max_depth=15 --> Accuracy: 0.9708\n"
          ]
        },
        {
          "output_type": "display_data",
          "data": {
            "text/plain": [
              "<Figure size 800x500 with 1 Axes>"
            ],
            "image/png": "[encoded data removed]"
          },
          "metadata": {}
        }
      ]
    },
    {
      "cell_type": "markdown",
      "source": [
        "#40. Train a Bagging Regressor using different base estimators (DecisionTree and KNeighbors) and compare performance."
      ],
      "metadata": {
        "id": "8AjWZBx61VjI"
      }
    },
    {
      "cell_type": "code",
      "source": [
        "from sklearn.datasets import load_diabetes\n",
        "from sklearn.model_selection import train_test_split\n",
        "from sklearn.ensemble import BaggingRegressor\n",
        "from sklearn.tree import DecisionTreeRegressor\n",
        "from sklearn.neighbors import KNeighborsRegressor\n",
        "from sklearn.metrics import mean_squared_error\n",
        "\n",
        "X, y = load_diabetes(return_X_y=True)\n",
        "X_train, X_test, y_train, y_test = train_test_split(X, y, test_size=0.3, random_state=42)\n",
        "\n",
        "tree_base = DecisionTreeRegressor(random_state=42)\n",
        "bagging_tree = BaggingRegressor(estimator=tree_base, n_estimators=50, random_state=42, n_jobs=-1)\n",
        "bagging_tree.fit(X_train, y_train)\n",
        "tree_preds = bagging_tree.predict(X_test)\n",
        "tree_mse = mean_squared_error(y_test, tree_preds)\n",
        "\n",
        "knn_base = KNeighborsRegressor()\n",
        "bagging_knn = BaggingRegressor(estimator=knn_base, n_estimators=50, random_state=42, n_jobs=-1)\n",
        "bagging_knn.fit(X_train, y_train)\n",
        "knn_preds = bagging_knn.predict(X_test)\n",
        "knn_mse = mean_squared_error(y_test, knn_preds)\n",
        "\n",
        "print(f\"Bagging Regressor (Decision Tree) MSE: {tree_mse:.2f}\")\n",
        "print(f\"Bagging Regressor (K-Neighbors)   MSE: {knn_mse:.2f}\")\n"
      ],
      "metadata": {
        "colab": {
          "base_uri": "https://localhost:8080/"
        },
        "id": "GevnizJ95pbQ",
        "outputId": "3225b6bd-57bc-40e5-ac58-178a97b975cf"
      },
      "execution_count": 44,
      "outputs": [
        {
          "output_type": "stream",
          "name": "stdout",
          "text": [
            "Bagging Regressor (Decision Tree) MSE: 2987.01\n",
            "Bagging Regressor (K-Neighbors)   MSE: 3140.19\n"
          ]
        }
      ]
    },
    {
      "cell_type": "markdown",
      "source": [
        "#41. Train a Random Forest Classifier and evaluate its performance using ROC-AUC Score."
      ],
      "metadata": {
        "id": "sv67Ckks4QBM"
      }
    },
    {
      "cell_type": "code",
      "source": [
        "from sklearn.datasets import load_breast_cancer\n",
        "from sklearn.ensemble import RandomForestClassifier\n",
        "from sklearn.model_selection import train_test_split\n",
        "from sklearn.metrics import roc_auc_score\n",
        "\n",
        "X, y = load_breast_cancer(return_X_y=True)\n",
        "\n",
        "X_train, X_test, y_train, y_test = train_test_split(X, y, test_size=0.3, random_state=42)\n",
        "\n",
        "rf = RandomForestClassifier(n_estimators=100, random_state=42)\n",
        "rf.fit(X_train, y_train)\n",
        "\n",
        "y_proba = rf.predict_proba(X_test)[:, 1]\n",
        "\n",
        "roc_auc = roc_auc_score(y_test, y_proba)\n",
        "\n",
        "print(f\"Random Forest ROC-AUC Score: {roc_auc:.4f}\")\n"
      ],
      "metadata": {
        "colab": {
          "base_uri": "https://localhost:8080/"
        },
        "id": "YSB2h9sd5iS8",
        "outputId": "d9280f45-2da6-4bf9-dc8d-4e3f1c290e25"
      },
      "execution_count": 43,
      "outputs": [
        {
          "output_type": "stream",
          "name": "stdout",
          "text": [
            "Random Forest ROC-AUC Score: 0.9968\n"
          ]
        }
      ]
    },
    {
      "cell_type": "markdown",
      "source": [
        "#42. Train a Bagging Classifier and evaluate its performance using cross-validation."
      ],
      "metadata": {
        "id": "rZl5OsfT4USv"
      }
    },
    {
      "cell_type": "code",
      "source": [
        "from sklearn.datasets import load_iris\n",
        "from sklearn.ensemble import BaggingClassifier\n",
        "from sklearn.tree import DecisionTreeClassifier\n",
        "from sklearn.model_selection import cross_val_score\n",
        "import numpy as np\n",
        "\n",
        "X, y = load_iris(return_X_y=True)\n",
        "\n",
        "base_estimator = DecisionTreeClassifier(random_state=42)\n",
        "\n",
        "bagging_clf = BaggingClassifier(estimator=base_estimator, n_estimators=50, random_state=42, n_jobs=-1)\n",
        "\n",
        "cv_scores = cross_val_score(bagging_clf, X, y, cv=5, scoring='accuracy')\n",
        "\n",
        "print(\"Cross-Validation Accuracy Scores:\", np.round(cv_scores, 3))\n",
        "print(\"Mean CV Accuracy:\", round(cv_scores.mean(), 3))\n",
        "print(\"Standard Deviation:\", round(cv_scores.std(), 3))\n"
      ],
      "metadata": {
        "colab": {
          "base_uri": "https://localhost:8080/"
        },
        "id": "AzHpbbvY5PyV",
        "outputId": "f9bd9b61-934c-4d5f-e62a-ac112fbd5f03"
      },
      "execution_count": 42,
      "outputs": [
        {
          "output_type": "stream",
          "name": "stdout",
          "text": [
            "Cross-Validation Accuracy Scores: [0.967 0.967 0.933 0.967 1.   ]\n",
            "Mean CV Accuracy: 0.967\n",
            "Standard Deviation: 0.021\n"
          ]
        }
      ]
    },
    {
      "cell_type": "markdown",
      "source": [
        "#43. Train a Random Forest Classifier and plot the Precision-Recall curve."
      ],
      "metadata": {
        "id": "Uoowm0dj4aCJ"
      }
    },
    {
      "cell_type": "code",
      "source": [
        "import matplotlib.pyplot as plt\n",
        "from sklearn.datasets import load_breast_cancer\n",
        "from sklearn.ensemble import RandomForestClassifier\n",
        "from sklearn.model_selection import train_test_split\n",
        "from sklearn.metrics import precision_recall_curve, average_precision_score\n",
        "\n",
        "X, y = load_breast_cancer(return_X_y=True)\n",
        "\n",
        "X_train, X_test, y_train, y_test = train_test_split(X, y, test_size=0.3, random_state=42)\n",
        "\n",
        "rf = RandomForestClassifier(n_estimators=100, random_state=42)\n",
        "rf.fit(X_train, y_train)\n",
        "\n",
        "y_scores = rf.predict_proba(X_test)[:, 1]\n",
        "\n",
        "precision, recall, _ = precision_recall_curve(y_test, y_scores)\n",
        "avg_precision = average_precision_score(y_test, y_scores)\n",
        "\n",
        "plt.figure(figsize=(8, 5))\n",
        "plt.plot(recall, precision, label=f'AP = {avg_precision:.2f}', color='navy')\n",
        "plt.xlabel('Recall')\n",
        "plt.ylabel('Precision')\n",
        "plt.title('Precision-Recall Curve for Random Forest Classifier')\n",
        "plt.legend()\n",
        "plt.grid(True)\n",
        "plt.show()\n"
      ],
      "metadata": {
        "colab": {
          "base_uri": "https://localhost:8080/",
          "height": 487
        },
        "id": "GrsO3aFx5G0J",
        "outputId": "67e40b95-2f29-40f6-b682-a556d7e302a6"
      },
      "execution_count": 41,
      "outputs": [
        {
          "output_type": "display_data",
          "data": {
            "text/plain": [
              "<Figure size 800x500 with 1 Axes>"
            ],
            "image/png": "[encoded data removed]"
          },
          "metadata": {}
        }
      ]
    },
    {
      "cell_type": "markdown",
      "source": [
        "#44. Train a Stacking Classifier with Random Forest and Logistic Regression and compare accuracy."
      ],
      "metadata": {
        "id": "RWpBN62i4d0x"
      }
    },
    {
      "cell_type": "code",
      "source": [
        "from sklearn.datasets import load_breast_cancer\n",
        "from sklearn.model_selection import train_test_split\n",
        "from sklearn.ensemble import RandomForestClassifier, StackingClassifier\n",
        "from sklearn.linear_model import LogisticRegression\n",
        "from sklearn.metrics import accuracy_score\n",
        "\n",
        "X, y = load_breast_cancer(return_X_y=True)\n",
        "\n",
        "X_train, X_test, y_train, y_test = train_test_split(X, y, test_size=0.3, random_state=42)\n",
        "\n",
        "estimators = [\n",
        "    ('rf', RandomForestClassifier(n_estimators=100, random_state=42)),\n",
        "    ('lr', LogisticRegression(max_iter=1000, solver='liblinear'))\n",
        "]\n",
        "\n",
        "stack_clf = StackingClassifier(estimators=estimators, final_estimator=LogisticRegression(), n_jobs=-1)\n",
        "stack_clf.fit(X_train, y_train)\n",
        "\n",
        "rf = estimators[0][1].fit(X_train, y_train)\n",
        "lr = estimators[1][1].fit(X_train, y_train)\n",
        "\n",
        "acc_rf = accuracy_score(y_test, rf.predict(X_test))\n",
        "acc_lr = accuracy_score(y_test, lr.predict(X_test))\n",
        "acc_stack = accuracy_score(y_test, stack_clf.predict(X_test))\n",
        "\n",
        "print(f\"Random Forest Accuracy:       {acc_rf:.4f}\")\n",
        "print(f\"Logistic Regression Accuracy: {acc_lr:.4f}\")\n",
        "print(f\"Stacking Classifier Accuracy: {acc_stack:.4f}\")\n"
      ],
      "metadata": {
        "colab": {
          "base_uri": "https://localhost:8080/"
        },
        "id": "Az_Kdb-f4zFl",
        "outputId": "4a52400d-6d51-450f-932b-822eaba0e251"
      },
      "execution_count": 40,
      "outputs": [
        {
          "output_type": "stream",
          "name": "stdout",
          "text": [
            "Random Forest Accuracy:       0.9708\n",
            "Logistic Regression Accuracy: 0.9649\n",
            "Stacking Classifier Accuracy: 0.9708\n"
          ]
        }
      ]
    },
    {
      "cell_type": "markdown",
      "source": [
        "#45. Train a Bagging Regressor with different levels of bootstrap samples and compare performance."
      ],
      "metadata": {
        "id": "RukHY8LY4ixu"
      }
    },
    {
      "cell_type": "code",
      "source": [
        "import numpy as np\n",
        "import matplotlib.pyplot as plt\n",
        "from sklearn.datasets import load_diabetes\n",
        "from sklearn.model_selection import train_test_split\n",
        "from sklearn.tree import DecisionTreeRegressor\n",
        "from sklearn.ensemble import BaggingRegressor\n",
        "from sklearn.metrics import mean_squared_error\n",
        "\n",
        "X, y = load_diabetes(return_X_y=True)\n",
        "X_train, X_test, y_train, y_test = train_test_split(X, y, test_size=0.2, random_state=42)\n",
        "\n",
        "sample_ratios = [0.4, 0.6, 0.8, 1.0]\n",
        "mse_scores = []\n",
        "\n",
        "for ratio in sample_ratios:\n",
        "    model = BaggingRegressor(\n",
        "        estimator=DecisionTreeRegressor(random_state=42),\n",
        "        n_estimators=50,\n",
        "        max_samples=ratio,\n",
        "        random_state=42,\n",
        "        n_jobs=-1\n",
        "    )\n",
        "    model.fit(X_train, y_train)\n",
        "    y_pred = model.predict(X_test)\n",
        "    mse = mean_squared_error(y_test, y_pred)\n",
        "    mse_scores.append(mse)\n",
        "    print(f\"max_samples={ratio:.1f} --> MSE: {mse:.2f}\")\n",
        "\n",
        "plt.figure(figsize=(8, 5))\n",
        "plt.plot(sample_ratios, mse_scores, marker='o', linestyle='--', color='teal')\n",
        "plt.title(\"Bagging Regressor MSE vs Bootstrap Sample Size\")\n",
        "plt.xlabel(\"max_samples (bootstrap sample ratio)\")\n",
        "plt.ylabel(\"Mean Squared Error\")\n",
        "plt.grid(True)\n",
        "plt.show()\n"
      ],
      "metadata": {
        "colab": {
          "base_uri": "https://localhost:8080/",
          "height": 560
        },
        "id": "EKk_OnkE4nWD",
        "outputId": "892ca0d1-b789-4f9a-e183-c0c9b716e95c"
      },
      "execution_count": 39,
      "outputs": [
        {
          "output_type": "stream",
          "name": "stdout",
          "text": [
            "max_samples=0.4 --> MSE: 2767.40\n",
            "max_samples=0.6 --> MSE: 2807.69\n",
            "max_samples=0.8 --> MSE: 3183.10\n",
            "max_samples=1.0 --> MSE: 3056.49\n"
          ]
        },
        {
          "output_type": "display_data",
          "data": {
            "text/plain": [
              "<Figure size 800x500 with 1 Axes>"
            ],
            "image/png": "[encoded data removed]"
          },
          "metadata": {}
        }
      ]
    }
  ]
}